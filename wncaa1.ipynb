{
 "cells": [
  {
   "cell_type": "markdown",
   "metadata": {},
   "source": [
    "Women's 2025 NCAA Swimming Psych Sheets\n",
    "Author: Orly Olbum\n",
    "Date: April 2, 2025\n",
    "Goal: Initial EDA for 2025 ncaa swimming psych sheets"
   ]
  },
  {
   "cell_type": "code",
   "execution_count": 1,
   "metadata": {},
   "outputs": [],
   "source": [
    "# libraries\n",
    "import pandas as pd"
   ]
  },
  {
   "cell_type": "code",
   "execution_count": 2,
   "metadata": {},
   "outputs": [
    {
     "name": "stdout",
     "output_type": "stream",
     "text": [
      "   Rank     First       Last Year      Team Std     Seed          Event  \\\n",
      "0     1   Jillian        Cox   SO     Texas   A  04:30.7  500 Freestyle   \n",
      "1     2  Arabella       Sims   SO   Florida   A  04:31.1  500 Freestyle   \n",
      "2     3    Aurora    Roghair   SR  Stanford   A  04:31.6  500 Freestyle   \n",
      "3     4   Kathryn     Grimes   FR  Virginia   A  04:32.7  500 Freestyle   \n",
      "4     5      Anna  Peplowski   SR   Indiana   A  04:33.9  500 Freestyle   \n",
      "\n",
      "     Invited  \n",
      "0  Qualified  \n",
      "1  Qualified  \n",
      "2  Qualified  \n",
      "3  Qualified  \n",
      "4  Qualified  \n"
     ]
    }
   ],
   "source": [
    "# data load\n",
    "wncaa = pd.read_csv('ncaa25_psychsheets.csv')\n",
    "print(wncaa.head())"
   ]
  }
 ],
 "metadata": {
  "kernelspec": {
   "display_name": "base",
   "language": "python",
   "name": "python3"
  },
  "language_info": {
   "codemirror_mode": {
    "name": "ipython",
    "version": 3
   },
   "file_extension": ".py",
   "mimetype": "text/x-python",
   "name": "python",
   "nbconvert_exporter": "python",
   "pygments_lexer": "ipython3",
   "version": "3.12.4"
  }
 },
 "nbformat": 4,
 "nbformat_minor": 2
}
