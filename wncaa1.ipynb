{
 "cells": [
  {
   "cell_type": "markdown",
   "metadata": {},
   "source": [
    "Women's 2025 NCAA Swimming Psych Sheets </br>\n",
    "Author: Orly Olbum </br>\n",
    "Start Date: April 2, 2025 </br>\n",
    "Goal: Initial EDA for 2025 ncaa swimming psych sheets"
   ]
  },
  {
   "cell_type": "code",
   "execution_count": 37,
   "metadata": {},
   "outputs": [],
   "source": [
    "# libraries\n",
    "import pandas as pd\n",
    "# import re"
   ]
  },
  {
   "cell_type": "code",
   "execution_count": 44,
   "metadata": {},
   "outputs": [],
   "source": [
    "# data load\n",
    "wncaa = pd.read_csv('NCAA 25 Psych Sheets.csv')\n",
    "# print(wncaa.columns)"
   ]
  },
  {
   "cell_type": "code",
   "execution_count": 45,
   "metadata": {},
   "outputs": [
    {
     "name": "stdout",
     "output_type": "stream",
     "text": [
      "   Rank     First       Last Year      Team Std     Seed          Event  \\\n",
      "0     1   Jillian        Cox   SO     Texas   A  04:30.7  500 Freestyle   \n",
      "1     2  Arabella       Sims   SO   Florida   A  04:31.1  500 Freestyle   \n",
      "2     3    Aurora    Roghair   SR  Stanford   A  04:31.6  500 Freestyle   \n",
      "3     4   Kathryn     Grimes   FR  Virginia   A  04:32.7  500 Freestyle   \n",
      "4     5      Anna  Peplowski   SR   Indiana   A  04:33.9  500 Freestyle   \n",
      "\n",
      "     Invited       Full Name  \n",
      "0  Qualified     Jillian Cox  \n",
      "1  Qualified   Arabella Sims  \n",
      "2  Qualified  Aurora Roghair  \n",
      "3  Qualified  Kathryn Grimes  \n",
      "4  Qualified  Anna Peplowski  \n"
     ]
    }
   ],
   "source": [
    "# we have first and last name, let's make one more field for both so we can count the swimmers\n",
    "wncaa['Full Name'] = wncaa['First'] + ' ' + wncaa['Last']\n",
    "print(wncaa.head())"
   ]
  },
  {
   "cell_type": "code",
   "execution_count": 46,
   "metadata": {},
   "outputs": [
    {
     "name": "stdout",
     "output_type": "stream",
     "text": [
      "   Rank     First       Last Year      Team Std     Seed          Event  \\\n",
      "0     1   Jillian        Cox   SO     Texas   A  04:30.7  500 Freestyle   \n",
      "1     2  Arabella       Sims   SO   Florida   A  04:31.1  500 Freestyle   \n",
      "2     3    Aurora    Roghair   SR  Stanford   A  04:31.6  500 Freestyle   \n",
      "3     4   Kathryn     Grimes   FR  Virginia   A  04:32.7  500 Freestyle   \n",
      "4     5      Anna  Peplowski   SR   Indiana   A  04:33.9  500 Freestyle   \n",
      "\n",
      "     Invited       Full Name     Stroke  \n",
      "0  Qualified     Jillian Cox  Freestyle  \n",
      "1  Qualified   Arabella Sims  Freestyle  \n",
      "2  Qualified  Aurora Roghair  Freestyle  \n",
      "3  Qualified  Kathryn Grimes  Freestyle  \n",
      "4  Qualified  Anna Peplowski  Freestyle  \n"
     ]
    }
   ],
   "source": [
    "# interested in strokes - coming back to create a new column that pulls the stroke out of the event column\n",
    "wncaa['Stroke'] = wncaa['Event'].str.findall(r'[a-zA-Z]').str.join('')\n",
    "print(wncaa.head())"
   ]
  },
  {
   "cell_type": "markdown",
   "metadata": {},
   "source": [
    "intro stats! </br>\n",
    "what is up with this dataset! </br>\n",
    "i love swimming! </br> </br>\n",
    "level 1: easy summaries, easy questions"
   ]
  },
  {
   "cell_type": "code",
   "execution_count": 31,
   "metadata": {},
   "outputs": [
    {
     "name": "stdout",
     "output_type": "stream",
     "text": [
      "281 swimmers\n"
     ]
    }
   ],
   "source": [
    "# how many swimmers were there\n",
    "swimmers = wncaa['Full Name'].unique()\n",
    "print(len(swimmers), 'swimmers')"
   ]
  },
  {
   "cell_type": "code",
   "execution_count": 30,
   "metadata": {},
   "outputs": [
    {
     "name": "stdout",
     "output_type": "stream",
     "text": [
      "60 schools\n"
     ]
    }
   ],
   "source": [
    "# how many schools were represented\n",
    "teams = wncaa['Team'].unique()\n",
    "print(len(teams), 'schools')"
   ]
  },
  {
   "cell_type": "code",
   "execution_count": 32,
   "metadata": {},
   "outputs": [
    {
     "name": "stdout",
     "output_type": "stream",
     "text": [
      "         Team  Full Name\n",
      "0    Virginia         18\n",
      "1       Texas         15\n",
      "2     Florida         14\n",
      "3   Tennessee         13\n",
      "4    Michigan         12\n",
      "5    Stanford         12\n",
      "6  Louisville         12\n",
      "7  California         12\n"
     ]
    }
   ],
   "source": [
    "# top 5 schools by number of swimmers\n",
    "topteams_swimmers = wncaa.groupby('Team')['Full Name'].nunique().reset_index()\n",
    "topteams_swimmers_sorted = topteams_swimmers.sort_values(by = 'Full Name', ascending = False).reset_index(drop = True)\n",
    "print(topteams_swimmers_sorted.head(8))"
   ]
  },
  {
   "cell_type": "markdown",
   "metadata": {},
   "source": [
    "no surprise - UVA, Texas, FL have quite the crew </br>\n",
    "Michigan up there?! when i get to analyzing results... let's see how the number of swimmers compares!"
   ]
  },
  {
   "cell_type": "code",
   "execution_count": 34,
   "metadata": {},
   "outputs": [
    {
     "name": "stdout",
     "output_type": "stream",
     "text": [
      "    Number of Swimmers per School  Frequency\n",
      "0                               1         20\n",
      "1                               2         10\n",
      "2                               3          8\n",
      "3                               8          5\n",
      "4                              12          5\n",
      "5                               7          4\n",
      "6                              10          2\n",
      "7                              14          1\n",
      "8                               5          1\n",
      "9                               4          1\n",
      "10                             13          1\n",
      "11                             15          1\n",
      "12                             18          1\n"
     ]
    }
   ],
   "source": [
    "# frequency table for number of swimmers by school\n",
    "swimmersperschool_freq = topteams_swimmers['Full Name'].value_counts().reset_index()\n",
    "swimmersperschool_freq.columns = ('Number of Swimmers per School', 'Frequency')\n",
    "print(swimmersperschool_freq)"
   ]
  },
  {
   "cell_type": "code",
   "execution_count": null,
   "metadata": {},
   "outputs": [],
   "source": [
    "# i wonder if i can set buckets\n",
    "# i know i can do this in R #shade\n",
    "\n",
    "# also i want to switch to R so i can get some cool charts together\n",
    "\n",
    "# eh, i'll do it later"
   ]
  },
  {
   "cell_type": "markdown",
   "metadata": {},
   "source": [
    "looks like only two schools have 10 or more swimmers, and most have less than 5"
   ]
  },
  {
   "cell_type": "markdown",
   "metadata": {},
   "source": [
    "now let's look by event"
   ]
  },
  {
   "cell_type": "code",
   "execution_count": 26,
   "metadata": {},
   "outputs": [
    {
     "name": "stdout",
     "output_type": "stream",
     "text": [
      "          Full Name  Count\n",
      "0     Camille Spink      3\n",
      "1  Catherine Choate      3\n",
      "2    Gretchen Walsh      3\n",
      "3     Arabella Sims      3\n",
      "4     Claire Curzan      3\n"
     ]
    }
   ],
   "source": [
    "# top 5 swimmers buy number of events\n",
    "eventcount = wncaa['Full Name'].value_counts().reset_index()\n",
    "eventcount.columns = ('Full Name', 'Count')\n",
    "eventcount_sorted = eventcount.sort_values(by = 'Count', ascending = False)\n",
    "print(eventcount.head(5))"
   ]
  },
  {
   "cell_type": "code",
   "execution_count": 28,
   "metadata": {},
   "outputs": [
    {
     "name": "stdout",
     "output_type": "stream",
     "text": [
      "   Number of Events  Swimmers\n",
      "0                 3       198\n",
      "1                 2        77\n",
      "2                 1         6\n"
     ]
    }
   ],
   "source": [
    "# well damn - maybe it's better to do a frequency chart here?\n",
    "# is it just another value count?\n",
    "eventcount_freq = eventcount_sorted['Count'].value_counts().reset_index()\n",
    "eventcount_freq.columns = ('Number of Events', 'Frequency')\n",
    "print(eventcount_freq)"
   ]
  },
  {
   "cell_type": "markdown",
   "metadata": {},
   "source": [
    "don't forget that many swimmers do relays too.</br>\n",
    "no relay entries in this psych sheet - relays are a whole different ballgame.</br>\n",
    "so - vast majority of swimmers at NCAAs were swimming three events. interesting..."
   ]
  },
  {
   "cell_type": "code",
   "execution_count": 47,
   "metadata": {},
   "outputs": [
    {
     "name": "stdout",
     "output_type": "stream",
     "text": [
      "             Stroke  Count\n",
      "0        Backstroke    106\n",
      "1      Breaststroke    107\n",
      "2         Butterfly    105\n",
      "3         Freestyle    319\n",
      "4  IndividualMedley    117\n"
     ]
    }
   ],
   "source": [
    "# look at strokes\n",
    "strokes = wncaa.groupby('Stroke')['First'].count().reset_index()\n",
    "strokes.columns = ('Stroke', 'Count')\n",
    "print(strokes)"
   ]
  },
  {
   "cell_type": "code",
   "execution_count": null,
   "metadata": {},
   "outputs": [],
   "source": [
    "# we have discovered an issue!!\n",
    "# have to fix the \"Freeystyle\"\n",
    "# going back to do it manually, brb\n",
    "# all set! see above :)"
   ]
  },
  {
   "cell_type": "markdown",
   "metadata": {},
   "source": [
    "level 2: cross-sections of the data needed to answer slightly more complicated questions"
   ]
  },
  {
   "cell_type": "code",
   "execution_count": null,
   "metadata": {},
   "outputs": [],
   "source": [
    "# "
   ]
  },
  {
   "cell_type": "markdown",
   "metadata": {},
   "source": [
    "level 3: EARTH-SHATTERING STATS </br>\n",
    "\n",
    "jk but some more complicated wizardry will be required to answer these ones"
   ]
  },
  {
   "cell_type": "code",
   "execution_count": null,
   "metadata": {},
   "outputs": [],
   "source": [
    "# swimmers with multiple strokes"
   ]
  },
  {
   "cell_type": "code",
   "execution_count": null,
   "metadata": {},
   "outputs": [],
   "source": [
    "# swimmers with multiple distances"
   ]
  },
  {
   "cell_type": "code",
   "execution_count": null,
   "metadata": {},
   "outputs": [],
   "source": [
    "# qualifiers by stroke (by school?)"
   ]
  },
  {
   "cell_type": "code",
   "execution_count": null,
   "metadata": {},
   "outputs": [],
   "source": [
    "# qualifiers by distance (by school?)"
   ]
  }
 ],
 "metadata": {
  "kernelspec": {
   "display_name": "base",
   "language": "python",
   "name": "python3"
  },
  "language_info": {
   "codemirror_mode": {
    "name": "ipython",
    "version": 3
   },
   "file_extension": ".py",
   "mimetype": "text/x-python",
   "name": "python",
   "nbconvert_exporter": "python",
   "pygments_lexer": "ipython3",
   "version": "3.12.4"
  }
 },
 "nbformat": 4,
 "nbformat_minor": 2
}
