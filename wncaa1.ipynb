{
 "cells": [
  {
   "cell_type": "markdown",
   "metadata": {},
   "source": [
    "Women's 2025 NCAA Swimming Psych Sheets </br>\n",
    "Author: Orly Olbum </br>\n",
    "Start Date: April 2, 2025 </br>\n",
    "Goal: Initial EDA for 2025 ncaa swimming psych sheets"
   ]
  },
  {
   "cell_type": "code",
   "execution_count": 1,
   "metadata": {},
   "outputs": [],
   "source": [
    "# libraries\n",
    "import pandas as pd"
   ]
  },
  {
   "cell_type": "code",
   "execution_count": 2,
   "metadata": {},
   "outputs": [],
   "source": [
    "# data load\n",
    "wncaa = pd.read_csv('ncaa25_psychsheets.csv')\n",
    "# print(wncaa.columns)"
   ]
  },
  {
   "cell_type": "code",
   "execution_count": 4,
   "metadata": {},
   "outputs": [
    {
     "name": "stdout",
     "output_type": "stream",
     "text": [
      "   Rank     First       Last Year      Team Std     Seed          Event  \\\n",
      "0     1   Jillian        Cox   SO     Texas   A  04:30.7  500 Freestyle   \n",
      "1     2  Arabella       Sims   SO   Florida   A  04:31.1  500 Freestyle   \n",
      "2     3    Aurora    Roghair   SR  Stanford   A  04:31.6  500 Freestyle   \n",
      "3     4   Kathryn     Grimes   FR  Virginia   A  04:32.7  500 Freestyle   \n",
      "4     5      Anna  Peplowski   SR   Indiana   A  04:33.9  500 Freestyle   \n",
      "\n",
      "     Invited       Full Name  \n",
      "0  Qualified     Jillian Cox  \n",
      "1  Qualified   Arabella Sims  \n",
      "2  Qualified  Aurora Roghair  \n",
      "3  Qualified  Kathryn Grimes  \n",
      "4  Qualified  Anna Peplowski  \n"
     ]
    }
   ],
   "source": [
    "# we have first and last name, let's make one more field for both so we can count the swimmers\n",
    "wncaa['Full Name'] = wncaa['First'] + ' ' + wncaa['Last']\n",
    "print(wncaa.head())"
   ]
  },
  {
   "cell_type": "markdown",
   "metadata": {},
   "source": [
    "intro stats! </br>\n",
    "what is up with this dataset! </br>\n",
    "i love swimming! </br> </br>\n",
    "level 1: easy summaries, easy questions"
   ]
  },
  {
   "cell_type": "code",
   "execution_count": 5,
   "metadata": {},
   "outputs": [
    {
     "name": "stdout",
     "output_type": "stream",
     "text": [
      "281\n"
     ]
    }
   ],
   "source": [
    "# how many swimmers were there\n",
    "swimmers = wncaa['Full Name'].unique()\n",
    "print(len(swimmers))"
   ]
  },
  {
   "cell_type": "code",
   "execution_count": 6,
   "metadata": {},
   "outputs": [
    {
     "name": "stdout",
     "output_type": "stream",
     "text": [
      "60\n"
     ]
    }
   ],
   "source": [
    "# how many schools were represented\n",
    "teams = wncaa['Team'].unique()\n",
    "print(len(teams))"
   ]
  },
  {
   "cell_type": "code",
   "execution_count": 14,
   "metadata": {},
   "outputs": [
    {
     "name": "stdout",
     "output_type": "stream",
     "text": [
      "        Team  Full Name\n",
      "0   Virginia         18\n",
      "1      Texas         15\n",
      "2    Florida         14\n",
      "3  Tennessee         13\n",
      "4   Michigan         12\n"
     ]
    }
   ],
   "source": [
    "# top 5 schools by number of swimmers\n",
    "topteams_swimmers = wncaa.groupby('Team')['Full Name'].nunique().reset_index()\n",
    "topteams_swimmers_sorted = topteams_swimmers.sort_values(by = 'Full Name', ascending = False).reset_index(drop = True)\n",
    "print(topteams_swimmers_sorted.head(5))"
   ]
  },
  {
   "cell_type": "markdown",
   "metadata": {},
   "source": [
    "no surprise - UVA, Texas, FL have quite the crew </br>\n",
    "Michigan up there?! when i get to analyzing results... let's see how the number of swimmers compares!"
   ]
  },
  {
   "cell_type": "code",
   "execution_count": null,
   "metadata": {},
   "outputs": [],
   "source": [
    "# top 5 swimmers buy number of events\n"
   ]
  },
  {
   "cell_type": "markdown",
   "metadata": {},
   "source": [
    "level 2: cross-sections of the data needed to answer slightly more complicated questions"
   ]
  },
  {
   "cell_type": "markdown",
   "metadata": {},
   "source": [
    "level 3: EARTH-SHATTERING STATS\n",
    "\n",
    "jk but some more complicated wizardry will be required to answer these ones"
   ]
  }
 ],
 "metadata": {
  "kernelspec": {
   "display_name": "base",
   "language": "python",
   "name": "python3"
  },
  "language_info": {
   "codemirror_mode": {
    "name": "ipython",
    "version": 3
   },
   "file_extension": ".py",
   "mimetype": "text/x-python",
   "name": "python",
   "nbconvert_exporter": "python",
   "pygments_lexer": "ipython3",
   "version": "3.12.4"
  }
 },
 "nbformat": 4,
 "nbformat_minor": 2
}
