{
 "cells": [
  {
   "cell_type": "markdown",
   "metadata": {},
   "source": [
    "Women's 2025 NCAA Swimming Psych Sheets\n",
    "Author: Orly Olbum\n",
    "Start Date: April 2, 2025\n",
    "Goal: Initial EDA for 2025 ncaa swimming psych sheets"
   ]
  },
  {
   "cell_type": "code",
   "execution_count": 1,
   "metadata": {},
   "outputs": [],
   "source": [
    "# libraries\n",
    "import pandas as pd"
   ]
  },
  {
   "cell_type": "code",
   "execution_count": null,
   "metadata": {},
   "outputs": [],
   "source": [
    "# data load\n",
    "wncaa = pd.read_csv('ncaa25_psychsheets.csv')\n",
    "# print(wncaa.columns)"
   ]
  },
  {
   "cell_type": "code",
   "execution_count": null,
   "metadata": {},
   "outputs": [],
   "source": [
    "# we have first and last name, let's make one more field for both so we can count the swimmers\n",
    "wncaa['Full Name'] = wncaa['First'] + ' ' + wncaa['Last']\n",
    "# print(wncaa.head())"
   ]
  },
  {
   "cell_type": "markdown",
   "metadata": {},
   "source": [
    "intro stats!\n",
    "what is up with this dataset!\n",
    "i love swimming!\n",
    "\n",
    "level 1: easy summaries, easy questions"
   ]
  },
  {
   "cell_type": "code",
   "execution_count": null,
   "metadata": {},
   "outputs": [],
   "source": [
    "# how many swimmers were there\n",
    "swimmers = wncaa['Full Name'].unique()\n",
    "print(len(swimmers))"
   ]
  },
  {
   "cell_type": "code",
   "execution_count": null,
   "metadata": {},
   "outputs": [],
   "source": [
    "# how many schools were represented\n",
    "teams = wncaa['Team'].unique()\n",
    "print(len(teams))"
   ]
  },
  {
   "cell_type": "code",
   "execution_count": null,
   "metadata": {},
   "outputs": [],
   "source": [
    "# top 5 schools by number of swimmers"
   ]
  },
  {
   "cell_type": "code",
   "execution_count": null,
   "metadata": {},
   "outputs": [],
   "source": [
    "# top 5 swimmers buy number of events"
   ]
  },
  {
   "cell_type": "markdown",
   "metadata": {},
   "source": [
    "level 2: cross-sections of the data needed to answer slightly more complicated questions"
   ]
  },
  {
   "cell_type": "markdown",
   "metadata": {},
   "source": [
    "level 3: EARTH-SHATTERING STATS\n",
    "\n",
    "jk but some more complicated wizardry will be required to answer these ones"
   ]
  }
 ],
 "metadata": {
  "kernelspec": {
   "display_name": "base",
   "language": "python",
   "name": "python3"
  },
  "language_info": {
   "codemirror_mode": {
    "name": "ipython",
    "version": 3
   },
   "file_extension": ".py",
   "mimetype": "text/x-python",
   "name": "python",
   "nbconvert_exporter": "python",
   "pygments_lexer": "ipython3",
   "version": "3.12.4"
  }
 },
 "nbformat": 4,
 "nbformat_minor": 2
}
